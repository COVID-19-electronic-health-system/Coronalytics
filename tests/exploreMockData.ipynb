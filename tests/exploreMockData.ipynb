{
 "cells": [
  {
   "cell_type": "code",
   "execution_count": 1,
   "metadata": {},
   "outputs": [],
   "source": [
    "import pandas as pd \n",
    "import requests"
   ]
  },
  {
   "cell_type": "code",
   "execution_count": 2,
   "metadata": {},
   "outputs": [],
   "source": [
    "from pandas.io.json import json_normalize  "
   ]
  },
  {
   "cell_type": "code",
   "execution_count": 3,
   "metadata": {},
   "outputs": [],
   "source": [
    "r = requests.get('https://corona-tracker-mock.herokuapp.com/users')\n",
    "mock_data = r.json()\n",
    "mock_df = pd.DataFrame.from_dict(mock_data)"
   ]
  },
  {
   "cell_type": "code",
   "execution_count": 4,
   "metadata": {},
   "outputs": [
    {
     "data": {
      "text/html": [
       "<div>\n",
       "<style scoped>\n",
       "    .dataframe tbody tr th:only-of-type {\n",
       "        vertical-align: middle;\n",
       "    }\n",
       "\n",
       "    .dataframe tbody tr th {\n",
       "        vertical-align: top;\n",
       "    }\n",
       "\n",
       "    .dataframe thead th {\n",
       "        text-align: right;\n",
       "    }\n",
       "</style>\n",
       "<table border=\"1\" class=\"dataframe\">\n",
       "  <thead>\n",
       "    <tr style=\"text-align: right;\">\n",
       "      <th></th>\n",
       "      <th>id</th>\n",
       "      <th>title</th>\n",
       "      <th>observation</th>\n",
       "      <th>coronavirus</th>\n",
       "      <th>demographics</th>\n",
       "      <th>comorbidites</th>\n",
       "    </tr>\n",
       "  </thead>\n",
       "  <tbody>\n",
       "    <tr>\n",
       "      <th>0</th>\n",
       "      <td>11</td>\n",
       "      <td>user1</td>\n",
       "      <td>{'1': {'physical': {'id': 1, 'fever': None, 'c...</td>\n",
       "      <td>{'confirmed': False}</td>\n",
       "      <td>{}</td>\n",
       "      <td>{'cadiosvascular': {}, 'endocrine': {}}</td>\n",
       "    </tr>\n",
       "    <tr>\n",
       "      <th>1</th>\n",
       "      <td>12</td>\n",
       "      <td>user2</td>\n",
       "      <td>{'1': {'physical': {'id': 51, 'fever': 'Severe...</td>\n",
       "      <td>{'confirmed': True}</td>\n",
       "      <td>{}</td>\n",
       "      <td>{'cadiosvascular': {}, 'endocrine': {}}</td>\n",
       "    </tr>\n",
       "    <tr>\n",
       "      <th>2</th>\n",
       "      <td>13</td>\n",
       "      <td>user3</td>\n",
       "      <td>{'1': {'physical': {'id': 101, 'fever': 'Minim...</td>\n",
       "      <td>{'confirmed': False}</td>\n",
       "      <td>{}</td>\n",
       "      <td>{'cadiosvascular': {}, 'endocrine': {}}</td>\n",
       "    </tr>\n",
       "  </tbody>\n",
       "</table>\n",
       "</div>"
      ],
      "text/plain": [
       "   id  title                                        observation  \\\n",
       "0  11  user1  {'1': {'physical': {'id': 1, 'fever': None, 'c...   \n",
       "1  12  user2  {'1': {'physical': {'id': 51, 'fever': 'Severe...   \n",
       "2  13  user3  {'1': {'physical': {'id': 101, 'fever': 'Minim...   \n",
       "\n",
       "            coronavirus demographics                             comorbidites  \n",
       "0  {'confirmed': False}           {}  {'cadiosvascular': {}, 'endocrine': {}}  \n",
       "1   {'confirmed': True}           {}  {'cadiosvascular': {}, 'endocrine': {}}  \n",
       "2  {'confirmed': False}           {}  {'cadiosvascular': {}, 'endocrine': {}}  "
      ]
     },
     "execution_count": 4,
     "metadata": {},
     "output_type": "execute_result"
    }
   ],
   "source": [
    "mock_df.head(3)"
   ]
  }
 ],
 "metadata": {
  "kernelspec": {
   "display_name": "Python 3",
   "language": "python",
   "name": "python3"
  },
  "language_info": {
   "codemirror_mode": {
    "name": "ipython",
    "version": 3
   },
   "file_extension": ".py",
   "mimetype": "text/x-python",
   "name": "python",
   "nbconvert_exporter": "python",
   "pygments_lexer": "ipython3",
   "version": "3.7.3"
  }
 },
 "nbformat": 4,
 "nbformat_minor": 4
}
